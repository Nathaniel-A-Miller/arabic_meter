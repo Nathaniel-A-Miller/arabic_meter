{
  "nbformat": 4,
  "nbformat_minor": 0,
  "metadata": {
    "colab": {
      "provenance": [],
      "authorship_tag": "ABX9TyPbwzfCHn1rqAJm9fnyvl4B",
      "include_colab_link": true
    },
    "kernelspec": {
      "name": "python3",
      "display_name": "Python 3"
    },
    "language_info": {
      "name": "python"
    }
  },
  "cells": [
    {
      "cell_type": "markdown",
      "metadata": {
        "id": "view-in-github",
        "colab_type": "text"
      },
      "source": [
        "<a href=\"https://colab.research.google.com/github/Nathaniel-A-Miller/arabic_meter/blob/main/Arabic_meter.ipynb\" target=\"_parent\"><img src=\"https://colab.research.google.com/assets/colab-badge.svg\" alt=\"Open In Colab\"/></a>"
      ]
    },
    {
      "cell_type": "markdown",
      "source": [
        "**Copy one of the Arabic hemistichs below to paste in the following cell.** <br>\n",
        "\n",
        "The following lines are written in \"prosodical orthography,\" <br>\n",
        "which essentially means that every unpronounced letter is <br>\n",
        "removed and every pronouced letter has a vowel. This is the first <br>\n",
        "stage in traditional Arabic scansion and enables programmatic scansion as well.<br>\n",
        "[Click here for a fuller explanation.](https://www.dropbox.com/scl/fi/xj437ert4we6ps6znou5l/kitaba-arudiyya.png?rlkey=zs0mr4io8bwzl59gc3i5crfv3&st=wzfa4sva&dl=0)\n",
        "\n",
        "***al-rajaz***\n",
        "<br>\n",
        "'أَحْمَدُ رَبْبِ لْلَاْهَ خَيْرَ مَاْلِكِيْ'\n",
        "\n",
        "\"I praise my Lord God the greatest ruler.\"\n",
        "\n",
        "— Ibn Mālik the Grammarian (Andalus and Syria, d. 1274)\n",
        "<br>\n",
        "<br>\n",
        "***al-sarīʿ***\n",
        "<br>فَصِرْتُ وَحْدِيْ مُفْرَدَنْ مِنْهُمُوْْ\n",
        "<br>\"I went along alone, separate from them\"  \n",
        "\n",
        "— al-Aḥnaf al-ʿUkbarī (Iraq, d. 995)\n",
        "<br><br>\n",
        "***al-kāmil***\n",
        "<br>\n",
        "عَفَتِ دْدِيَاْرُ مَحَلْلُهَاْ فَمُقَاْمُهَاْ\n",
        "<br>\"The camps are effaced, abodes of alighting, and of abiding\"\n",
        "\n",
        "— Labīd ibn Rabīʿa (Najd, ca. 600)\n",
        "<br><br>\n",
        "\n",
        "***al-wāfir***\n",
        "<br>\n",
        "أَلَسْتُمْ خَيْرَ مَنْ رَكِبَ لْمَطَاْيَاْ\n",
        "\n",
        "\"Are you not the greatest to have ridden a steed?\"\n",
        "\n",
        "— Jarīr (Najd and Iraq, d. 727)\n",
        "<br><br>\n",
        "***al-ṭawīl***<br>\n",
        "أَخُ لْعِلْمِ حَيْيُنْ خَاْلِدُنْ بَعْدَ مَوْتِهِيْ\n",
        "<br>\"The possessor of knowledge is alive, eternal after his death.\"\n",
        "\n",
        "—Ibn al-Sīd al-Baṭalyawsī (Andalus, d. 1127)\n"
      ],
      "metadata": {
        "id": "YueE5QY-fbDi"
      }
    },
    {
      "cell_type": "markdown",
      "source": [
        "**Press the play button to run the below cell, paste your hemistich, and press enter.**<br>\n",
        "Then run all cells and scroll to the bottom for your meter result."
      ],
      "metadata": {
        "id": "_Iu-pXI8cjQz"
      }
    },
    {
      "cell_type": "code",
      "source": [
        "# Enter the hemistich you want to find the meter of\n",
        "\n",
        "text = input(\"Enter a hemistich: \")"
      ],
      "metadata": {
        "colab": {
          "base_uri": "https://localhost:8080/"
        },
        "id": "rs33319AZqI1",
        "outputId": "beba7d74-d4c7-4b1a-d1b1-42ebc90c40bb"
      },
      "execution_count": null,
      "outputs": [
        {
          "name": "stdout",
          "output_type": "stream",
          "text": [
            "Enter a hemistich: لِدُوْ لِلْمَوْتِ وَبْنُوْ لِلْخَرَاْبِيْ\n"
          ]
        }
      ]
    },
    {
      "cell_type": "code",
      "source": [
        "# defines function that takes Arabic text string as input and returns list of\n",
        "# strings of C for consonant, v for vowel, or s for sukuun.\n",
        "\n",
        "def classify_arabic_chars(text):\n",
        "    short_vowels = ['َ', 'ُ', 'ِ']\n",
        "    sukuun = 'ْ'\n",
        "    result = []\n",
        "\n",
        "    for char in text:\n",
        "        if char in short_vowels:\n",
        "            result.append('v')\n",
        "        elif char == sukuun:\n",
        "            result.append('s')\n",
        "        else:\n",
        "            result.append('C')\n",
        "\n",
        "    return ''.join(result)"
      ],
      "metadata": {
        "id": "X0mH3lIsg6WP"
      },
      "execution_count": null,
      "outputs": []
    },
    {
      "cell_type": "code",
      "source": [
        "# remove all whitespaces\n",
        "\n",
        "text = ''.join(text.split())"
      ],
      "metadata": {
        "id": "xexgeEpnhDt6"
      },
      "execution_count": null,
      "outputs": []
    },
    {
      "cell_type": "code",
      "source": [
        "# run the function to convert Arabic into C, s, and v string. Check output with\n",
        "# print()\n",
        "\n",
        "pattern = classify_arabic_chars(text)\n",
        "print(pattern)"
      ],
      "metadata": {
        "colab": {
          "base_uri": "https://localhost:8080/"
        },
        "id": "7j3VrhBvwUve",
        "outputId": "50b1d91e-875a-423b-d6eb-d7c06d885290"
      },
      "execution_count": null,
      "outputs": [
        {
          "output_type": "stream",
          "name": "stdout",
          "text": [
            "CvCvCsCvCsCvCsCvCvCsCvCsCvCsCvCvCsCvCs\n"
          ]
        }
      ]
    },
    {
      "cell_type": "code",
      "source": [
        "# function that takes the variable pattern from classify_arabic_chars and converts\n",
        "# it into long and short syllables as list of \"long\" and \"short\" strings\n",
        "\n",
        "def classify_cv_pattern(pattern):\n",
        "   # pattern = pattern.replace(\" \", \"\")\n",
        "\n",
        "    result = []\n",
        "    i = 0\n",
        "    while i < len(pattern) - 1:\n",
        "        if pattern[i:i+2] == 'Cv':\n",
        "            if pattern[i+2:i+4] == 'Cs':\n",
        "                result.append('long')\n",
        "                i += 4\n",
        "            else:\n",
        "                result.append('short')\n",
        "                i += 2\n",
        "        else:\n",
        "            i += 1\n",
        "    return result"
      ],
      "metadata": {
        "id": "WNIMPzYmr_SD"
      },
      "execution_count": null,
      "outputs": []
    },
    {
      "cell_type": "code",
      "source": [
        "# run the function\n",
        "\n",
        "pattern_2 = classify_cv_pattern(pattern)"
      ],
      "metadata": {
        "id": "IWCfXTvXsAzk"
      },
      "execution_count": null,
      "outputs": []
    },
    {
      "cell_type": "code",
      "source": [
        "# run this optionally to display the pattern of long and short syllables\n",
        "# in the hemistich\n",
        "\n",
        "print(pattern_2)"
      ],
      "metadata": {
        "colab": {
          "base_uri": "https://localhost:8080/"
        },
        "id": "sepRv9f6YASD",
        "outputId": "2508a280-069e-4c32-ea7f-7d43c1d85bf3"
      },
      "execution_count": null,
      "outputs": [
        {
          "output_type": "stream",
          "name": "stdout",
          "text": [
            "['short', 'long', 'long', 'long', 'short', 'long', 'long', 'long', 'short', 'long', 'long']\n"
          ]
        }
      ]
    },
    {
      "cell_type": "code",
      "source": [
        "# definitions of functions to match the pattern list against dicts of possible meters\n",
        "\n",
        "def expand_pattern(pattern):\n",
        "    \"\"\"Expand a pattern with 'combo' and 'doublecombo' into possible concrete versions.\"\"\"\n",
        "    def expand(token):\n",
        "        if token == \"combo\":\n",
        "            return [[\"short\"], [\"long\"]]\n",
        "        elif token == \"doublecombo\":\n",
        "            return [[\"long\"], [\"short\", \"short\"]]\n",
        "        else:\n",
        "            return [[token]]\n",
        "\n",
        "    # Recursive Cartesian product expansion\n",
        "    expanded = [[]]\n",
        "    for token in pattern:\n",
        "        options = expand(token)\n",
        "        expanded = [e + o for e in expanded for o in options]\n",
        "    return expanded\n",
        "\n",
        "def match(input_list, patterns_dict):\n",
        "    for meter_name, patterns in patterns_dict.items():\n",
        "        for pattern in patterns:\n",
        "            for expanded in expand_pattern(pattern):\n",
        "                if expanded == input_list:\n",
        "                    return meter_name\n",
        "    return None\n",
        "\n",
        "def find_match(input_list):\n",
        "    rajaz_result = match(input_list, rajaz_patterns)\n",
        "    if rajaz_result:\n",
        "        return (\"rajaz\", rajaz_result)\n",
        "\n",
        "    sari3_result = match(input_list, sari3_patterns)\n",
        "    if sari3_result:\n",
        "        return (\"sarīʿ\", sari3_result)\n",
        "\n",
        "    kamil_result = match(input_list, kamil_patterns)\n",
        "    if kamil_result:\n",
        "        return (\"kāmil\", kamil_result)\n",
        "\n",
        "    wafir_result = match(input_list, wafir_patterns)\n",
        "    if wafir_result:\n",
        "        return (\"wāfir\", wafir_result)\n",
        "\n",
        "    tawil_result = match(input_list, tawil_patterns)\n",
        "    if tawil_result:\n",
        "        return (\"ṭawīl\", tawil_result)\n",
        "\n",
        "        return (\"No match\", None)\n",
        "\n",
        "\n",
        "# Meters' definitions -- I need to add basīṭ\n",
        "rajaz_patterns = {\n",
        "    \"trimeter acatalectic\": [\n",
        "        [\"combo\", \"long\", \"short\", \"long\", \"combo\", \"long\", \"short\", \"long\", \"combo\", \"long\", \"short\", \"long\"],\n",
        "        [\"combo\", \"short\", \"short\", \"long\", \"combo\", \"short\", \"short\", \"long\", \"combo\", \"short\", \"short\", \"long\"],\n",
        "        [\"combo\", \"short\", \"short\", \"long\", \"combo\", \"long\", \"short\", \"long\", \"combo\", \"short\", \"short\", \"long\"],\n",
        "        [\"combo\", \"short\", \"short\", \"long\", \"combo\", \"short\", \"short\", \"long\", \"combo\", \"long\", \"short\", \"long\"],\n",
        "        [\"combo\", \"short\", \"short\", \"long\", \"combo\", \"long\", \"short\", \"long\", \"combo\", \"long\", \"short\", \"long\"],\n",
        "        [\"combo\", \"long\", \"short\", \"long\", \"combo\", \"short\", \"short\", \"long\", \"combo\", \"short\", \"short\", \"long\"]\n",
        "    ],\n",
        "    \"trimeter catalectic\": [\n",
        "        [\"combo\", \"long\", \"short\", \"long\", \"combo\", \"long\", \"short\", \"long\", \"combo\", \"long\", \"long\"],\n",
        "        [\"combo\", \"short\", \"short\", \"long\", \"combo\", \"short\", \"short\", \"long\", \"combo\", \"long\", \"long\"],\n",
        "        [\"combo\", \"short\", \"short\", \"long\", \"combo\", \"long\", \"short\", \"long\", \"combo\", \"long\", \"long\"],\n",
        "        [\"combo\", \"long\", \"short\", \"long\", \"combo\", \"short\", \"short\", \"long\", \"combo\", \"long\", \"long\"]\n",
        "    ],\n",
        "    \"dimeter acatalectic\": [\n",
        "        [\"combo\", \"long\", \"short\", \"long\", \"combo\", \"long\", \"short\", \"long\"],\n",
        "        [\"combo\", \"short\", \"short\", \"long\", \"combo\", \"short\", \"short\", \"long\"],\n",
        "        [\"combo\", \"long\", \"short\", \"long\", \"combo\", \"short\", \"short\", \"long\"],\n",
        "        [\"combo\", \"short\", \"short\", \"long\", \"combo\", \"long\", \"short\", \"long\"],\n",
        "    ],\n",
        "    \"dimeter catalectic\": [\n",
        "        [\"combo\", \"long\", \"short\", \"long\", \"combo\", \"long\", \"long\"],\n",
        "        [\"combo\", \"short\", \"short\", \"long\", \"combo\", \"long\", \"long\"]\n",
        "    ]\n",
        "}\n",
        "\n",
        "sari3_patterns = {\n",
        "    \"trimeter\": [\n",
        "    [\"combo\", \"long\", \"short\", \"long\", \"combo\", \"long\", \"short\", \"long\", \"long\", \"short\", \"long\"],\n",
        "    [\"combo\", \"short\", \"short\", \"long\", \"combo\", \"short\", \"short\", \"long\", \"long\", \"short\", \"long\"],\n",
        "    [\"combo\", \"long\", \"short\", \"long\", \"combo\", \"long\", \"short\", \"long\", \"long\", \"long\"],\n",
        "    [\"combo\", \"short\", \"short\", \"long\", \"combo\", \"short\", \"short\", \"long\", \"long\", \"long\"],\n",
        "    [\"combo\", \"long\", \"short\", \"long\", \"combo\", \"short\", \"short\", \"long\", \"long\", \"short\", \"long\"],\n",
        "    [\"combo\", \"short\", \"short\", \"long\", \"combo\", \"long\", \"short\", \"long\", \"long\", \"short\", \"long\"],\n",
        "    [\"combo\", \"long\", \"short\", \"long\", \"combo\", \"short\", \"short\", \"long\", \"long\", \"long\"],\n",
        "    [\"combo\", \"short\", \"short\", \"long\", \"combo\", \"long\", \"short\", \"long\", \"long\", \"long\"],\n",
        "    ]\n",
        "}\n",
        "\n",
        "kamil_patterns = {\n",
        "    \"trimeter acatalectic\": [\n",
        "        [\"doublecombo\", \"long\", \"short\", \"long\", \"doublecombo\", \"long\", \"short\", \"long\", \"doublecombo\", \"long\", \"short\", \"long\"],\n",
        "    ],\n",
        "    \"trimeter catalectic\": [\n",
        "        [\"doublecombo\", \"long\", \"short\", \"long\", \"doublecombo\", \"long\", \"short\", \"long\", \"doublecombo\", \"long\", \"long\"],\n",
        "    ],\n",
        "    \"trimeter catalectic\": [\n",
        "        [\"doublecombo\", \"long\", \"short\", \"long\", \"doublecombo\", \"short\", \"short\", \"long\", \"doublecombo\", \"long\"],\n",
        "    ],\n",
        "    \"dimeter acatalectic\": [\n",
        "        [\"doublecombo\", \"long\", \"short\", \"long\", \"doublecombo\", \"long\", \"short\", \"long\"],\n",
        "    ],\n",
        "    \"dimeter catalectic\": [\n",
        "        [\"doublecombo\", \"long\", \"short\", \"long\", \"doublecombo\", \"long\", \"long\"],\n",
        "    ],\n",
        "    \"dimeter acatalectic muraffal\": [\n",
        "        [\"doublecombo\", \"long\", \"short\", \"long\", \"doublecombo\", \"long\", \"short\", \"long\", \"long\"],\n",
        "    ]\n",
        "}\n",
        "\n",
        "wafir_patterns = {\n",
        "    \"trimeter\": [\n",
        "        [\"short\", \"long\", \"doublecombo\", \"long\", \"short\", \"long\", \"doublecombo\", \"long\", \"short\", \"long\", \"long\"]\n",
        "    ],\n",
        "    \"dimeter\": [\n",
        "        [\"short\", \"long\", \"doublecombo\", \"long\", \"short\", \"long\", \"doublecombo\", \"long\"],\n",
        "        [\"short\", \"long\", \"doublecombo\", \"long\", \"short\", \"long\", \"long\", \"long\"]\n",
        "    ]\n",
        "}\n",
        "\n",
        "tawil_patterns = {\n",
        "    \"acatalectic\": [\n",
        "        [\"short\", \"long\", \"combo\", \"short\", \"long\", \"combo\", \"long\", \"short\", \"long\", \"combo\", \"short\", \"long\", \"combo\", \"long\"],\n",
        "    ],\n",
        "    \"catalectic\": [\n",
        "        [\"short\", \"long\", \"combo\", \"short\", \"long\", \"combo\", \"long\", \"short\", \"long\", \"combo\", \"short\", \"long\", \"long\"],\n",
        "        [\"short\", \"long\", \"combo\", \"short\", \"long\", \"combo\", \"long\", \"short\", \"long\", \"combo\", \"short\", \"long\", \"long\", \"long\"],\n",
        "    ]\n",
        "}"
      ],
      "metadata": {
        "id": "Azw0kYbnYt1E"
      },
      "execution_count": null,
      "outputs": []
    },
    {
      "cell_type": "markdown",
      "source": [
        "**YOUR RESULT**"
      ],
      "metadata": {
        "id": "8IXsJ3tec9IP"
      }
    },
    {
      "cell_type": "code",
      "source": [
        "# Run and print result\n",
        "result = find_match(pattern_2)\n",
        "print(f\"The meter is {result}\")"
      ],
      "metadata": {
        "colab": {
          "base_uri": "https://localhost:8080/"
        },
        "id": "mEI975_nYwae",
        "outputId": "25518531-2e79-4fed-e0e2-2abb87f8767e"
      },
      "execution_count": null,
      "outputs": [
        {
          "output_type": "stream",
          "name": "stdout",
          "text": [
            "The meter is ('wāfir', 'trimeter')\n"
          ]
        }
      ]
    }
  ]
}